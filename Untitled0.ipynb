{
  "nbformat": 4,
  "nbformat_minor": 0,
  "metadata": {
    "colab": {
      "name": "Untitled0.ipynb",
      "provenance": [],
      "authorship_tag": "ABX9TyNxS3Dgqmf+/xotJAXqJX68",
      "include_colab_link": true
    },
    "kernelspec": {
      "name": "python3",
      "display_name": "Python 3"
    },
    "language_info": {
      "name": "python"
    }
  },
  "cells": [
    {
      "cell_type": "markdown",
      "metadata": {
        "id": "view-in-github",
        "colab_type": "text"
      },
      "source": [
        "<a href=\"https://colab.research.google.com/github/lucasegonzalez/Calculadora/blob/main/Untitled0.ipynb\" target=\"_parent\"><img src=\"https://colab.research.google.com/assets/colab-badge.svg\" alt=\"Open In Colab\"/></a>"
      ]
    },
    {
      "cell_type": "code",
      "metadata": {
        "id": "WVtpnmdwR819"
      },
      "source": [
        "import numpy as np\n",
        "import scipy as sc\n",
        "import matplotlib.pyplot as plt\n",
        "\n",
        "from sklearn.datasets import make_circles"
      ],
      "execution_count": 3,
      "outputs": []
    },
    {
      "cell_type": "code",
      "metadata": {
        "colab": {
          "base_uri": "https://localhost:8080/",
          "height": 265
        },
        "id": "UkLa855ISkr-",
        "outputId": "8ead4948-a6b1-401b-cb52-54ea8190744d"
      },
      "source": [
        "# Crear el dataset\n",
        "\n",
        "n = 500 # Cantidad de registros\n",
        "p = 2 # Cantidad de features\n",
        "\n",
        "# Y: Las 2 clases a las que pertenecen los círculos (uno o el otro)\n",
        "X, Y = make_circles(n_samples=n, factor=0.5, noise=0.05)\n",
        "Y = Y[:, np.newaxis]\n",
        "\n",
        "plt.scatter(X[Y[:, 0] == 0, 0], X[Y[:, 0] == 0, 1], c=\"skyblue\")\n",
        "plt.scatter(X[Y[:, 0] == 1, 0], X[Y[:, 0] == 1, 1], c=\"salmon\")\n",
        "plt.axis(\"equal\") # Ejes con la misma proporción\n",
        "plt.show()"
      ],
      "execution_count": 85,
      "outputs": [
        {
          "output_type": "display_data",
          "data": {
            "image/png": "[encoded data removed]",
            "text/plain": [
              "<Figure size 432x288 with 1 Axes>"
            ]
          },
          "metadata": {
            "needs_background": "light"
          }
        }
      ]
    },
    {
      "cell_type": "code",
      "metadata": {
        "id": "PEhNDvY9TrWJ"
      },
      "source": [
        "# CLASE DE LA CAPA DE LA RED\n",
        "\n",
        "class neural_layer():\n",
        "\n",
        "    def __init__ (self, n_conn, n_neur, act_f):\n",
        "        \n",
        "        self.act_f = act_f\n",
        "\n",
        "        self.b = np.random.rand(1, n_neur) * 2 -1\n",
        "\n",
        "        self.w = np.random.rand(n_conn, n_neur) * 2 -1"
      ],
      "execution_count": 78,
      "outputs": []
    },
    {
      "cell_type": "code",
      "metadata": {
        "colab": {
          "base_uri": "https://localhost:8080/",
          "height": 282
        },
        "id": "R8fzR6-CY0Oj",
        "outputId": "65c511cf-7c69-4975-b6db-f749041670b0"
      },
      "source": [
        "# Dentro de una capa realizamos las mismas operaciones para todas las neuronas (misma función de activación, backpropagation, etc)\n",
        "# Cada neurona es una unidad de procesamiento -> Cada capa es un módulo\n",
        "\n",
        "# Capas\n",
        "class neural_layer():\n",
        "\n",
        "  def __init__(self, n_connections, n_neurons, activation_function):\n",
        "    self.activation_function = activation_function\n",
        "    \n",
        "    # La normalizamos y estandarizamos entre -1 y 1\n",
        "    self.b = np.random.rand(1, n_neurons) * 2 - 1\n",
        "    self.W = np.random.rand(n_connections, n_neurons) * 2 - 1\n",
        "\n",
        "# Funciones de activación\n",
        "sigmoid = (lambda x: 1 / (1 + np.e ** (-x)), lambda x: x * (1 - x))\n",
        "\n",
        "relu = lambda x: np.maximum(0, x)\n",
        "\n",
        "# Variable que va de -5 a 5 de forma líneal con 100 valores generados \n",
        "_x = np.linspace(-5, 5, 100)\n",
        "plt.plot(_x, sigmoid[0](_x))\n",
        "plt.plot(_x, relu(_x))"
      ],
      "execution_count": 79,
      "outputs": [
        {
          "output_type": "execute_result",
          "data": {
            "text/plain": [
              "[<matplotlib.lines.Line2D at 0x7fc15bd15390>]"
            ]
          },
          "metadata": {},
          "execution_count": 79
        },
        {
          "output_type": "display_data",
          "data": {
            "image/png": "[encoded data removed]",
            "text/plain": [
              "<Figure size 432x288 with 1 Axes>"
            ]
          },
          "metadata": {
            "needs_background": "light"
          }
        }
      ]
    },
    {
      "cell_type": "code",
      "metadata": {
        "id": "E29BHECoZcHb"
      },
      "source": [
        "l0 = neural_layer(p, 4, sigmoid)\n",
        "l1 = neural_layer(4, 8, sigmoid)\n",
        "# ...\n",
        "\n",
        "def create_neural_network(topology, activation_function):\n",
        "  neural_network = []\n",
        "\n",
        "  for l, layer in enumerate(topology[:-1]):\n",
        "    neural_network.append(neural_layer(topology[l], topology[l + 1], activation_function))\n",
        "\n",
        "  return neural_network\n",
        "\n"
      ],
      "execution_count": 80,
      "outputs": []
    },
    {
      "cell_type": "code",
      "metadata": {
        "colab": {
          "base_uri": "https://localhost:8080/"
        },
        "id": "aqG3aU9Icqx5",
        "outputId": "de468908-f95e-477e-dea5-44856997622d"
      },
      "source": [
        "topology = [p, 4, 8, 1] # [p, 4, 8, 16, 8, 4, 1]\n",
        "neural_network = create_neural_network(topology, sigmoid)\n",
        "\n",
        "# La red procesa hacia adelante\n",
        "# Se comparan los resultados con Y (y obtenemos el error con la función de costos)\n",
        "# Propagamos el error hacia atrás para calcular las derivadas parciales y, con ellas, ejecutar el gradient descend\n",
        "# Con esto optimizamos la función de costos para entrenar la red\n",
        "\n",
        "l2_cost = (lambda Yp, Yr: np.mean((Yp - Yr) ** 2), lambda Yp, Yr: (Yp - Yr))\n",
        "\n",
        "def train(neural_network, X, Y, l2_cost, learning_rate=0.5, train=True):\n",
        "  # [(z0, a0), (z1, a1), ..., (zn, an)]\n",
        "  output = [(None, X)]\n",
        "  \n",
        "  # Forward pass\n",
        "  for l, layer in enumerate(neural_network):\n",
        "    z = output[-1][1] @ neural_network[l].W + neural_network[l].b\n",
        "    a = neural_network[l].activation_function[0](z)\n",
        "\n",
        "    output.append((z, a))\n",
        "\n",
        "  if train:\n",
        "\n",
        "    # Backward pass\n",
        "    deltas = []\n",
        "\n",
        "    for l  in reversed(range(0, len(neural_network))):\n",
        "      z = output[l + 1][0]\n",
        "      a = output[l + 1][1]\n",
        "      \n",
        "      if l == (len(neural_network) - 1):\n",
        "        # Calcular delta de la última capa\n",
        "        deltas.insert(0, l2_cost[1](a, Y) * neural_network[l].activation_function[1](a))\n",
        "      else:\n",
        "        # Calcular delta respecto de la capa previa\n",
        "        deltas.insert(0, deltas[0] @ _W * neural_network[l].activation_function[1](a))\n",
        "      _W = neural_network[l].W.T\n",
        "\n",
        "      # Gradient Descent\n",
        "      neural_network[l].b -= np.mean(deltas[0], axis=0, keepdims=True) * learning_rate\n",
        "      neural_network[l].W -= output[l][1].T @ deltas[0] * learning_rate\n",
        "\n",
        "    return output[-1][1]\n",
        "\n",
        "\n",
        "train(neural_network, X, Y, l2_cost, 0.5)\n",
        "print(\"\")"
      ],
      "execution_count": 82,
      "outputs": [
        {
          "output_type": "stream",
          "name": "stdout",
          "text": [
            "\n"
          ]
        }
      ]
    },
    {
      "cell_type": "code",
      "metadata": {
        "colab": {
          "base_uri": "https://localhost:8080/",
          "height": 129
        },
        "id": "xU5umLiOnT7J",
        "outputId": "181cac69-a94c-4b95-ce92-00b44ea612d9"
      },
      "source": [
        "import time\n",
        "from IPython.display import clear_output\n",
        "\n",
        "neural_network = create_neural_network(topology, sigmoid)\n",
        "\n",
        "loss = [] # Diferentes costos para graficar la evolución en el tiempo\n",
        "\n",
        "for i in range(2500):\n",
        "\n",
        "  pY = train(neural_network, X, Y, l2_cost, learning_rate=0.05)\n",
        "\n",
        "  # Cada 25 iteraciones\n",
        "  if i % 25 == 0:\n",
        "    # Calculamos el costo\n",
        "    loss.append(l2_cost[0](pY, Y))\n",
        "\n",
        "    # Generamos una malla de 50x50\n",
        "    res = 50\n",
        "\n",
        "    _x0 = np.linspace(-1.5, 1.5, res)\n",
        "    _x1 = np.linspace(-1.5, 1.5, res)\n",
        "\n",
        "    _Y = np.zeros((res, res))\n",
        "\n",
        "    for i0, x0 in enumerate(_x0):\n",
        "      for i1, x1 in enumerate(_x1):\n",
        "        # Predecimos el resultado de la red\n",
        "        _Y[i0, i1] = train(neural_network, np.array([[x0, x1]]), Y, l2_cost, train=false[0][0]\n",
        "    \n",
        "    plt.pcolormesh (_x0, _x1, _Y, cmap=\"coolwarm\")\n",
        "    plt.axis(\"equal\")\n",
        "\n",
        "    plt.scatter(X[Y[:, 0] == 0, 0], X[Y[:, 0] == 0, 1], c=\"skyblue\")\n",
        "    plt.scatter(X[Y[:, 0] == 1, 0], X[Y[:, 0] == 1, 1], c=\"salmon\")\n",
        "\n",
        "    clear_output(wait=True)\n",
        "    plt.show()\n",
        "    plt.plot(range(len(loss)), loss)\n",
        "    plt.show()\n",
        "    time.sleep(0.5)"
      ],
      "execution_count": 89,
      "outputs": [
        {
          "output_type": "error",
          "ename": "SyntaxError",
          "evalue": "ignored",
          "traceback": [
            "\u001b[0;36m  File \u001b[0;32m\"<ipython-input-89-cab30fff3361>\"\u001b[0;36m, line \u001b[0;32m30\u001b[0m\n\u001b[0;31m    plt.pcolormesh (_x0, _x1, _Y, cmap=\"coolwarm\")\u001b[0m\n\u001b[0m      ^\u001b[0m\n\u001b[0;31mSyntaxError\u001b[0m\u001b[0;31m:\u001b[0m invalid syntax\n"
          ]
        }
      ]
    },
    {
      "cell_type": "code",
      "metadata": {
        "id": "_QS4AuOU8vOj"
      },
      "source": [
        ""
      ],
      "execution_count": null,
      "outputs": []
    }
  ]
}